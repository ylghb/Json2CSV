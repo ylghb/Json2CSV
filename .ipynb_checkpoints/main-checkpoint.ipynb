{
 "cells": [
  {
   "cell_type": "markdown",
   "metadata": {},
   "source": [
    "### 简易版爬虫\n",
    "手动填写要爬取的电影id号进入ids列表中。"
   ]
  },
  {
   "cell_type": "code",
   "execution_count": 40,
   "metadata": {},
   "outputs": [
    {
     "name": "stdout",
     "output_type": "stream",
     "text": [
      "finished the id:  1304972\n",
      "finished the id:  27063335\n",
      "finished the id:  1295399\n",
      "finished the id:  1428176\n",
      "finished the id:  4328443\n",
      "finished the id:  1296909\n",
      "finished the id:  1293909\n",
      "finished the id:  26761688\n",
      "finished the id:  2294568\n",
      "finished the id:  27087788\n",
      "finished the id:  6430835\n",
      "finished the id:  26846968\n",
      "finished the id:  1293530\n",
      "finished the id:  1307463\n",
      "finished the id:  26873799\n",
      "finished the id:  25966028\n"
     ]
    }
   ],
   "source": [
    "import urllib.request\n",
    "import urllib.parse\n",
    "import time\n",
    "\n",
    "url = 'https://api.douban.com/v2/movie/subject/{}/comments?apikey=0b2bdeda43b5688921839c8ecb20399b&start={}&count=100&client=&udid='\n",
    "ids = [1304972,27063335,1295399,1428176,4328443,1296909,1293909,26761688,2294568,27087788,6430835,26846968,1293530,1307463,26873799,25966028]\n",
    "starts = [0,100,200,300,400]\n",
    "\n",
    "header = {\n",
    "   'User-Agent': 'Mozilla/5.0 (Windows NT 6.1; WOW64) AppleWebKit/537.36 (KHTML, like Gecko) Chrome/58.0.3029.96 Safari/537.36'\n",
    "}\n",
    "\n",
    "for i in ids:\n",
    "    for j in starts:\n",
    "        request = urllib.request.Request(url.format(i,j), headers=header)\n",
    "        reponse = urllib.request.urlopen(request).read()\n",
    "        time.sleep(0.5)\n",
    "        with open(str(i)+'_'+str(j)+\".json\", \"wb\") as f:\n",
    "            f.write(reponse)\n",
    "    print('finished the id: ',i)"
   ]
  },
  {
   "cell_type": "markdown",
   "metadata": {},
   "source": [
    "### 普通版爬虫\n",
    "从电影列表中自动获取电影id号进行爬取"
   ]
  },
  {
   "cell_type": "code",
   "execution_count": 86,
   "metadata": {},
   "outputs": [
    {
     "name": "stdout",
     "output_type": "stream",
     "text": [
      "---------->>> this page is: 240\n",
      "finished the id:  25850715\n",
      "finished the id:  1299811\n",
      "finished the id:  1293799\n",
      "finished the id:  26610786\n",
      "finished the id:  1306186\n",
      "finished the id:  10762817\n",
      "finished the id:  1949812\n",
      "finished the id:  2294565\n",
      "finished the id:  1305182\n",
      "finished the id:  25865831\n",
      "finished the id:  24739179\n",
      "finished the id:  1307749\n",
      "finished the id:  1464540\n",
      "finished the id:  1296973\n",
      "finished the id:  1389982\n",
      "finished the id:  21348876\n",
      "finished the id:  26961227\n",
      "finished the id:  2131649\n",
      "finished the id:  2174535\n",
      "finished the id:  1306606\n",
      "---------->>> this page is: 260\n",
      "finished the id:  1424552\n",
      "finished the id:  1293934\n",
      "finished the id:  25953430\n",
      "finished the id:  26335586\n",
      "finished the id:  26356488\n",
      "finished the id:  6040982\n",
      "finished the id:  3610047\n",
      "finished the id:  1292586\n",
      "finished the id:  1309078\n",
      "finished the id:  2132473\n",
      "finished the id:  1419005\n",
      "finished the id:  20326665\n",
      "finished the id:  25881247\n",
      "finished the id:  26979088\n",
      "finished the id:  1438584\n",
      "finished the id:  6722730\n",
      "finished the id:  1293077\n",
      "finished the id:  1292778\n",
      "finished the id:  27156513\n",
      "finished the id:  1295646\n",
      "---------->>> this page is: 280\n",
      "finished the id:  4917908\n",
      "finished the id:  1305530\n",
      "finished the id:  1297785\n",
      "finished the id:  2028647\n",
      "finished the id:  24869803\n",
      "finished the id:  1293750\n",
      "finished the id:  6749656\n",
      "finished the id:  3153641\n",
      "finished the id:  1466419\n",
      "finished the id:  1949811\n",
      "finished the id:  1303075\n",
      "finished the id:  6013870\n",
      "finished the id:  3264045\n",
      "finished the id:  10515616\n",
      "finished the id:  1464563\n",
      "finished the id:  1308950\n",
      "finished the id:  27042421\n",
      "finished the id:  6129462\n",
      "finished the id:  3148089\n"
     ]
    }
   ],
   "source": [
    "import urllib.request\n",
    "import urllib.parse\n",
    "import time\n",
    "import re\n",
    "\n",
    "#列表页面url\n",
    "url = 'https://movie.douban.com/tag/%E6%88%98%E4%BA%89?start={}&type=T'\n",
    "header = {\n",
    "       'User-Agent': 'Mozilla/5.0 (Windows NT 6.1; WOW64) AppleWebKit/537.36 (KHTML, like Gecko) Chrome/58.0.3029.96 Safari/537.36'\n",
    "    }\n",
    "\n",
    "#手动修改此list中的页号\n",
    "for u in [240,260,280]:\n",
    "    \n",
    "    '''\n",
    "    提取列表页中每部电影的id号\n",
    "    '''\n",
    "    print('---------->>> this page is:',u)\n",
    "    request = urllib.request.Request(url.format(u), headers=header)\n",
    "    reponse = urllib.request.urlopen(request).read()\n",
    "\n",
    "\n",
    "    de = reponse.decode('utf-8')\n",
    "    # 将正则表达式编译成Pattern对象\n",
    "    pattern = re.compile(r'collect_form_(\\d*)')\n",
    "\n",
    "    # 使用Pattern匹配文本，获得匹配结果，无法匹配时将返回None\n",
    "    ids = pattern.findall(de)\n",
    "    \n",
    "    '''\n",
    "    获取id号后，使用豆瓣api爬取每部电影的500条热评\n",
    "    '''\n",
    "    api = 'https://api.douban.com/v2/movie/subject/{}/comments?apikey=0b2bdeda43b5688921839c8ecb20399b&start={}&count=100&client=&udid='\n",
    "\n",
    "    starts = [0,100,200,300,400]\n",
    "\n",
    "    for i in ids:\n",
    "        for j in starts:\n",
    "            request = urllib.request.Request(api.format(i,j), headers=header)\n",
    "            reponse = urllib.request.urlopen(request).read()\n",
    "            time.sleep(0.5)\n",
    "            with open(str(i)+'_'+str(j)+\".json\", \"wb\") as f:\n",
    "                f.write(reponse)\n",
    "        print('finished the id: ',i)"
   ]
  },
  {
   "cell_type": "markdown",
   "metadata": {},
   "source": [
    "### 遍历文件夹下文件演示"
   ]
  },
  {
   "cell_type": "code",
   "execution_count": 15,
   "metadata": {},
   "outputs": [
    {
     "name": "stdout",
     "output_type": "stream",
     "text": [
      "parent folder is:F:\\PythonProjects\\json2csv\n",
      "dirname is:.ipynb_checkpoints\n",
      "parent folder is:F:\\PythonProjects\\json2csv\n",
      "dirname is:hhxd\n",
      "parent folder is:F:\\PythonProjects\\json2csv\n",
      "filename with full path:F:\\PythonProjects\\json2csv\\eggs.csv\n",
      "parent folder is:F:\\PythonProjects\\json2csv\n",
      "filename with full path:F:\\PythonProjects\\json2csv\\Untitled.ipynb\n",
      "parent folder is:F:\\PythonProjects\\json2csv\\.ipynb_checkpoints\n",
      "filename with full path:F:\\PythonProjects\\json2csv\\.ipynb_checkpoints\\Untitled-checkpoint.ipynb\n",
      "parent folder is:F:\\PythonProjects\\json2csv\\hhxd\n",
      "filename with full path:F:\\PythonProjects\\json2csv\\hhxd\\comments1.json\n"
     ]
    }
   ],
   "source": [
    "import os \n",
    "import os.path\n",
    "\n",
    "# this folder is custom \n",
    "rootdir=\"F:\\PythonProjects\\json2csv\" \n",
    "for parent,dirnames,filenames in os.walk(rootdir): \n",
    "    #case 1: \n",
    "    for dirname in dirnames: \n",
    "        print(\"parent folder is:\" + parent) \n",
    "        print(\"dirname is:\" + dirname) \n",
    "    #case 2 \n",
    "    for filename in filenames:    \n",
    "        print(\"parent folder is:\" + parent) \n",
    "        print(\"filename with full path:\"+ os.path.join(parent,filename))"
   ]
  },
  {
   "cell_type": "markdown",
   "metadata": {},
   "source": [
    "### json数据清洗\n",
    "提取出json中的有用信息，存储进CSV文件中。"
   ]
  },
  {
   "cell_type": "code",
   "execution_count": 89,
   "metadata": {},
   "outputs": [],
   "source": [
    "import os \n",
    "import os.path\n",
    "import csv\n",
    "import json\n",
    "\n",
    "# this folder is custom \n",
    "rootdir=\"F:\\PythonProjects\\json2csv\\datasets\" \n",
    "\n",
    "for parent,dirnames,filenames in os.walk(rootdir): \n",
    "    #case 1: \n",
    "#     for dirname in dirnames: \n",
    "#         print(\"parent folder is:\" + parent) \n",
    "#         print(\"dirname is:\" + dirname) \n",
    "    #case 2 \n",
    "    for filename in filenames:    \n",
    "#         print(\"parent folder is:\" + parent) \n",
    "        full_file = os.path.join(parent,filename)\n",
    "#         print(\"filename with full path:\"+ os.path.join(parent,filename))\n",
    "\n",
    "        with open(full_file, 'r') as f:\n",
    "            data = json.load(f)\n",
    "        with open('output/'+filename.split('.')[0]+'.csv', 'w', newline='',encoding='utf-8') as csvfile:\n",
    "            spamwriter = csv.writer(csvfile, delimiter=',',\n",
    "                            quotechar='\"',quoting=csv.QUOTE_MINIMAL)\n",
    "            for comment in data['comments']:\n",
    "                spamwriter.writerow(['看过',comment['created_at'],comment['rating']['value'],comment['useful_count'],comment['content']])\n"
   ]
  },
  {
   "cell_type": "code",
   "execution_count": null,
   "metadata": {},
   "outputs": [],
   "source": []
  }
 ],
 "metadata": {
  "kernelspec": {
   "display_name": "Python 3",
   "language": "python",
   "name": "python3"
  },
  "language_info": {
   "codemirror_mode": {
    "name": "ipython",
    "version": 3
   },
   "file_extension": ".py",
   "mimetype": "text/x-python",
   "name": "python",
   "nbconvert_exporter": "python",
   "pygments_lexer": "ipython3",
   "version": "3.5.4"
  }
 },
 "nbformat": 4,
 "nbformat_minor": 2
}
